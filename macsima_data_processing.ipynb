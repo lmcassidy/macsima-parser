{
 "cells": [
  {
   "cell_type": "code",
   "execution_count": null,
   "metadata": {},
   "outputs": [],
   "source": [
    "!conda create -n macsima python=3.10\n",
    "!conda activate macsima"
   ]
  },
  {
   "cell_type": "code",
   "execution_count": null,
   "metadata": {},
   "outputs": [],
   "source": [
    "# read in json file (macsima output)\n",
    "# get important info into format that makes sense\n",
    "# save to excel and/or report"
   ]
  },
  {
   "cell_type": "markdown",
   "metadata": {},
   "source": [
    "\n",
    "- overall exp metadata\n",
    "-name\n",
    "- run time - start time - end time\n",
    "\n",
    "- blocks\n",
    "- cycles\n",
    "- magnification\n",
    "- colour names\n",
    "- detection channel\n",
    "\n",
    "- background pictures without any staining\n",
    "- another can just the region of interest\n",
    "- time coefficient for each cycle"
   ]
  },
  {
   "cell_type": "code",
   "execution_count": null,
   "metadata": {},
   "outputs": [],
   "source": []
  }
 ],
 "metadata": {
  "kernelspec": {
   "display_name": "macsima",
   "language": "python",
   "name": "python3"
  },
  "language_info": {
   "name": "python",
   "version": "3.10.16"
  }
 },
 "nbformat": 4,
 "nbformat_minor": 2
}

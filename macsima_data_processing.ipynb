{
 "cells": [
  {
   "cell_type": "code",
   "execution_count": null,
   "metadata": {},
   "outputs": [],
   "source": [
    "!conda create -n macsima python=3.10\n",
    "!conda activate macsima"
   ]
  },
  {
   "cell_type": "code",
   "execution_count": null,
   "metadata": {},
   "outputs": [],
   "source": [
    "# read in json file (macsima output)\n",
    "# get important info into format that makes sense\n",
    "# save to excel and/or report"
   ]
  }
 ],
 "metadata": {
  "kernelspec": {
   "display_name": "macsima",
   "language": "python",
   "name": "python3"
  },
  "language_info": {
   "name": "python",
   "version": "3.10.16"
  }
 },
 "nbformat": 4,
 "nbformat_minor": 2
}

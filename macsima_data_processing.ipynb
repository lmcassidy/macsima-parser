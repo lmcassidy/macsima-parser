{
 "cells": [
  {
   "cell_type": "code",
   "execution_count": null,
   "metadata": {},
   "outputs": [],
   "source": [
    "!conda create -n macsima python=3.10\n",
    "!conda activate macsima\n",
    "!pip install -r requiremnts.txt"
   ]
  },
  {
   "cell_type": "code",
   "execution_count": null,
   "metadata": {},
   "outputs": [],
   "source": [
    "# read in json file (macsima output)\n",
    "# get important info into format that makes sense\n",
    "# save to excel and/or report"
   ]
  },
  {
   "cell_type": "markdown",
   "metadata": {},
   "source": [
    "\n",
    "- overall exp metadata\n",
    "-name\n",
    "- run time - start time - end time\n",
    "\n",
    "- blocks\n",
    "- cycles\n",
    "- magnification\n",
    "- colour names\n",
    "- detection channel\n",
    "\n",
    "- background pictures without any staining\n",
    "- another can just the region of interest\n",
    "- time coefficient for each cycle"
   ]
  },
  {
   "cell_type": "code",
   "execution_count": 1,
   "metadata": {},
   "outputs": [],
   "source": [
    "import json\n",
    "import pandas as pd"
   ]
  },
  {
   "cell_type": "code",
   "execution_count": 2,
   "metadata": {},
   "outputs": [],
   "source": [
    "def load_json(json_file):\n",
    "    with open(json_file, 'r') as f:\n",
    "        data = json.load(f)\n",
    "    return data"
   ]
  },
  {
   "cell_type": "code",
   "execution_count": 3,
   "metadata": {},
   "outputs": [],
   "source": [
    "macsima_output_file = 'data/250128_macsima_output.json'\n",
    "data = load_json(macsima_output_file)"
   ]
  },
  {
   "cell_type": "code",
   "execution_count": 13,
   "metadata": {},
   "outputs": [
    {
     "data": {
      "text/plain": [
       "{'actualRunningTime': 53367,\n",
       " 'averageROIPerWell': 1,\n",
       " 'averageSizePerROI': 1,\n",
       " 'comment': '',\n",
       " 'conclusion': '',\n",
       " 'creationDateTime': '2025-01-28T15:50:01Z',\n",
       " 'creator': '{23a8d883-dba3-42b1-8ec3-343c5f4137e0}',\n",
       " 'datasetSize': -1,\n",
       " 'estimatedRunningTime': 50983,\n",
       " 'executionEndDateTime': '2025-01-29T06:43:08Z',\n",
       " 'executionStartDateTime': '2025-01-28T15:53:36Z',\n",
       " 'experimenter': 'admin',\n",
       " 'id': '{9a237cfc-3501-4c97-a7d3-501016171e36}',\n",
       " 'instrumentId': '{d2ccd42e-8e22-4da1-b82b-37a58b004efa}',\n",
       " 'isArchived': False,\n",
       " 'isBackedUp': False,\n",
       " 'isBioQC': False,\n",
       " 'isExpress': False,\n",
       " 'keyword': '',\n",
       " 'modificationDateTime': '2025-01-29T06:43:10Z',\n",
       " 'modifier': '{23a8d883-dba3-42b1-8ec3-343c5f4137e0}',\n",
       " 'name': '250128_liver_OCT_FCRB 1',\n",
       " 'organization': '',\n",
       " 'owner': '',\n",
       " 'parameters': '',\n",
       " 'plannedExecutionDateTime': '',\n",
       " 'project': '',\n",
       " 'purpose': '',\n",
       " 'runExperimentPaths': ['/raid/shared/experiments/250128_liver_OCT_FCRB1_2025-01-28_15-53-43'],\n",
       " 'sampleRackIds': ['{6959567b-27db-4395-8dd4-38c661259dc1}'],\n",
       " 'schedulingErrors': [],\n",
       " 'state': 'ExperimentState_Executed',\n",
       " 'type': 'ExperimentType_Tissue',\n",
       " 'usedDiskspace': 178364,\n",
       " 'userState': 'ExperimentUserState_InPlanning',\n",
       " 'wellInstanceIds': ['{c06a5aba-3f36-422e-b251-92eb2ae63e9b}',\n",
       "  '{da837abc-ed47-45e5-aaef-4844421ffdb5}',\n",
       "  '{2494b4cd-0d18-4847-8265-1c0f802e949f}',\n",
       "  '{fe16ee54-29e1-4f3d-9ab8-72492539e7c7}'],\n",
       " 'wellProtocolLinks': [{'protocolId': '{219c4c1a-b2d3-44b0-b548-a8e20ea90280}',\n",
       "   'wellInstanceId': '{2494b4cd-0d18-4847-8265-1c0f802e949f}'}]}"
      ]
     },
     "execution_count": 13,
     "metadata": {},
     "output_type": "execute_result"
    }
   ],
   "source": [
    "data['experiments'][0]"
   ]
  },
  {
   "cell_type": "code",
   "execution_count": 4,
   "metadata": {},
   "outputs": [
    {
     "data": {
      "text/plain": [
       "dict_keys(['experiments', 'procedures', 'racks', 'reagents', 'rois', 'samples'])"
      ]
     },
     "execution_count": 4,
     "metadata": {},
     "output_type": "execute_result"
    }
   ],
   "source": [
    "data.keys()"
   ]
  },
  {
   "cell_type": "code",
   "execution_count": 15,
   "metadata": {},
   "outputs": [
    {
     "data": {
      "text/plain": [
       "2"
      ]
     },
     "execution_count": 15,
     "metadata": {},
     "output_type": "execute_result"
    }
   ],
   "source": [
    "len(data['rois'])"
   ]
  },
  {
   "cell_type": "code",
   "execution_count": 23,
   "metadata": {},
   "outputs": [
    {
     "data": {
      "text/plain": [
       "'{\"Height\":10,\"Width\":19}'"
      ]
     },
     "execution_count": 23,
     "metadata": {},
     "output_type": "execute_result"
    }
   ],
   "source": [
    "data['rois'][0]['shape']['Data']"
   ]
  },
  {
   "cell_type": "code",
   "execution_count": 24,
   "metadata": {},
   "outputs": [],
   "source": [
    "import json\n",
    "\n",
    "def extract_roi_dimensions(rois):\n",
    "    dimensions = []\n",
    "    for roi in rois:\n",
    "        try:\n",
    "            shape_data_str = roi.get('shape', {}).get('Data', '{}')\n",
    "            shape_data = json.loads(shape_data_str)\n",
    "            height = shape_data.get('Height')\n",
    "            width = shape_data.get('Width')\n",
    "            dimensions.append({'Height': height, 'Width': width})\n",
    "        except (json.JSONDecodeError, TypeError) as e:\n",
    "            dimensions.append({'Height': None, 'Width': None})\n",
    "    return dimensions\n"
   ]
  },
  {
   "cell_type": "code",
   "execution_count": 25,
   "metadata": {},
   "outputs": [
    {
     "name": "stdout",
     "output_type": "stream",
     "text": [
      "ROI 1: Height = 10, Width = 19\n",
      "ROI 2: Height = 2.350855833425806, Width = 2.6345827695784165\n"
     ]
    }
   ],
   "source": [
    "roi_dimensions = extract_roi_dimensions(data['rois'])\n",
    "\n",
    "for idx, dim in enumerate(roi_dimensions):\n",
    "    print(f\"ROI {idx+1}: Height = {dim['Height']}, Width = {dim['Width']}\")\n"
   ]
  },
  {
   "cell_type": "code",
   "execution_count": 11,
   "metadata": {},
   "outputs": [
    {
     "data": {
      "text/plain": [
       "'250128_FCRB'"
      ]
     },
     "execution_count": 11,
     "metadata": {},
     "output_type": "execute_result"
    }
   ],
   "source": [
    "data['racks'][0]['name']"
   ]
  },
  {
   "cell_type": "code",
   "execution_count": 12,
   "metadata": {},
   "outputs": [
    {
     "data": {
      "text/plain": [
       "1"
      ]
     },
     "execution_count": 12,
     "metadata": {},
     "output_type": "execute_result"
    }
   ],
   "source": [
    "len(data['racks'])"
   ]
  },
  {
   "cell_type": "code",
   "execution_count": 5,
   "metadata": {},
   "outputs": [
    {
     "data": {
      "text/plain": [
       "dict_keys(['analysisAlgorithmId', 'comment', 'contentType', 'creationDateTime', 'creator', 'id', 'isArchived', 'isTemplate', 'lotNumber', 'modificationDateTime', 'modifier', 'name', 'orderNumber', 'owner', 'preparationDateTime', 'qualityControlAlgorithmId', 'rackInfo', 'sampleGroupIds', 'sampleIds', 'scanDateTime', 'serialNumber', 'state', 'wells'])"
      ]
     },
     "execution_count": 5,
     "metadata": {},
     "output_type": "execute_result"
    }
   ],
   "source": [
    "data['racks'][0].keys()\n",
    "# slides\n",
    "# 8 rois spread accros 4 racks\n",
    "# which ROIs are from which rack"
   ]
  },
  {
   "cell_type": "code",
   "execution_count": 6,
   "metadata": {},
   "outputs": [
    {
     "data": {
      "text/plain": [
       "'250128_liver_OCT_FCRB 1'"
      ]
     },
     "execution_count": 6,
     "metadata": {},
     "output_type": "execute_result"
    }
   ],
   "source": [
    "data['experiments'][0]['name']"
   ]
  },
  {
   "cell_type": "code",
   "execution_count": null,
   "metadata": {},
   "outputs": [],
   "source": [
    "the sample info is associted with the rack_name\n",
    "    and the \n",
    "\n",
    "within the ROI info we have a sample id\n",
    "\n",
    "for each roi we want to know whuch spample its associated with"
   ]
  },
  {
   "cell_type": "code",
   "execution_count": null,
   "metadata": {},
   "outputs": [],
   "source": [
    "data['rois'][1]"
   ]
  },
  {
   "cell_type": "code",
   "execution_count": 7,
   "metadata": {},
   "outputs": [],
   "source": [
    "experiment_name = data['experiments'][0]['name']\n",
    "# 250128_liver_OCT_FCRB 1"
   ]
  },
  {
   "cell_type": "code",
   "execution_count": 9,
   "metadata": {},
   "outputs": [
    {
     "data": {
      "text/plain": [
       "'Standard procedure'"
      ]
     },
     "execution_count": 9,
     "metadata": {},
     "output_type": "execute_result"
    }
   ],
   "source": [
    "procedure_name = data['procedures'][0]['comment']\n",
    "procedure_name\n",
    "# standard procedure"
   ]
  },
  {
   "cell_type": "code",
   "execution_count": null,
   "metadata": {},
   "outputs": [],
   "source": [
    "data"
   ]
  },
  {
   "cell_type": "code",
   "execution_count": null,
   "metadata": {},
   "outputs": [],
   "source": [
    "# I have only run with one \"rack\" so far, \n",
    "# but the expt we have running now has 2, \n",
    "# so I will see if the file has diff info\n",
    "#  or diff layout that would be important\n",
    "rack_name = data['racks'][0]['name']\n",
    "# '250128_FCRB'"
   ]
  },
  {
   "cell_type": "code",
   "execution_count": null,
   "metadata": {},
   "outputs": [],
   "source": [
    "#  'executionEndDateTime': '2025-01-29T06:43:08Z',\n",
    "# 'executionStartDateTime': '2025-01-28T15:53:36Z',\n",
    "start_time = data['experiments'][0]['executionStartDateTime']\n",
    "end_time = data['experiments'][0]['executionEndDateTime']\n",
    "\n",
    "# 'actualRunningTime':  53367,\n",
    "actual_running_time_total_seconds = data['experiments'][0]['actualRunningTime']\n",
    "\n"
   ]
  },
  {
   "cell_type": "code",
   "execution_count": null,
   "metadata": {},
   "outputs": [],
   "source": [
    "# Convert seconds to hours minutes and seconds from \"actualRunningTime\" which reports running time in seconds\n",
    "def convert_seconds_to_hms(seconds):\n",
    "    hours = seconds // 3600\n",
    "    minutes = (seconds % 3600) // 60\n",
    "    seconds_left = seconds % 60\n",
    "    return hours, minutes, seconds_left\n",
    "\n",
    "# 14 hrs 49 min 27 sec"
   ]
  },
  {
   "cell_type": "code",
   "execution_count": null,
   "metadata": {},
   "outputs": [],
   "source": [
    "runtime_hours, runtime_minutes, runtime_seconds = convert_seconds_to_hms(actual_running_time_total_seconds)"
   ]
  },
  {
   "cell_type": "code",
   "execution_count": null,
   "metadata": {},
   "outputs": [],
   "source": [
    "runtime_hours, runtime_minutes, runtime_seconds"
   ]
  },
  {
   "cell_type": "code",
   "execution_count": null,
   "metadata": {},
   "outputs": [],
   "source": [
    "# usedDiskspace (I don't know what unit this is,\n",
    "#  but I can check and then it would be good to report in GB)\n",
    "# 'usedDiskspace': 178364,\n",
    "used_disk_space = data['experiments'][0]['usedDiskspace']"
   ]
  },
  {
   "cell_type": "code",
   "execution_count": null,
   "metadata": {},
   "outputs": [],
   "source": [
    "# I need to check the units; \n",
    "# also ROIS listed after reagents in json; \n",
    "# also note we usually have one ROI but we could have more\n",
    "rois_shape_data = data['rois'][0]['shape']\n",
    "rois_shape_type = data['rois'][0]['type']\n"
   ]
  },
  {
   "cell_type": "code",
   "execution_count": 26,
   "metadata": {},
   "outputs": [
    {
     "data": {
      "text/plain": [
       "'250128_liver_OCT_FCRB'"
      ]
     },
     "execution_count": 26,
     "metadata": {},
     "output_type": "execute_result"
    }
   ],
   "source": [
    "data['samples'][0]['name']"
   ]
  },
  {
   "cell_type": "code",
   "execution_count": 27,
   "metadata": {},
   "outputs": [
    {
     "data": {
      "text/plain": [
       "'Human'"
      ]
     },
     "execution_count": 27,
     "metadata": {},
     "output_type": "execute_result"
    }
   ],
   "source": [
    "data['samples'][0]['species']"
   ]
  },
  {
   "cell_type": "code",
   "execution_count": 28,
   "metadata": {},
   "outputs": [
    {
     "data": {
      "text/plain": [
       "'SampleType_Tissue'"
      ]
     },
     "execution_count": 28,
     "metadata": {},
     "output_type": "execute_result"
    }
   ],
   "source": [
    "data['samples'][0]['sampleType']"
   ]
  },
  {
   "cell_type": "code",
   "execution_count": 29,
   "metadata": {},
   "outputs": [
    {
     "data": {
      "text/plain": [
       "'Liver'"
      ]
     },
     "execution_count": 29,
     "metadata": {},
     "output_type": "execute_result"
    }
   ],
   "source": [
    "data['samples'][0]['organ']"
   ]
  },
  {
   "cell_type": "code",
   "execution_count": 30,
   "metadata": {},
   "outputs": [
    {
     "data": {
      "text/plain": [
       "'PFA'"
      ]
     },
     "execution_count": 30,
     "metadata": {},
     "output_type": "execute_result"
    }
   ],
   "source": [
    "data['samples'][0]['fixationMethod']"
   ]
  },
  {
   "cell_type": "code",
   "execution_count": null,
   "metadata": {},
   "outputs": [],
   "source": [
    "sample_name = data['samples'][0]['name']\n",
    "sample_species = data['samples'][0]['species']\n",
    "sample_type = data['samples'][0]['sampleType']\n",
    "sample_organ = data['samples'][0]['organ']\n",
    "fixation_method = data['samples'][0]['fixationMethod']"
   ]
  },
  {
   "cell_type": "code",
   "execution_count": null,
   "metadata": {},
   "outputs": [],
   "source": [
    "len(data['rois'])"
   ]
  },
  {
   "cell_type": "code",
   "execution_count": null,
   "metadata": {},
   "outputs": [],
   "source": [
    "autofocus_methods = [data['rois'][i]['autoFocus']['method'] for i in range(len(data['rois']))]"
   ]
  },
  {
   "cell_type": "code",
   "execution_count": null,
   "metadata": {},
   "outputs": [],
   "source": [
    "blocks = data['procedures'][0]['blocks']"
   ]
  },
  {
   "cell_type": "code",
   "execution_count": null,
   "metadata": {},
   "outputs": [],
   "source": [
    "len(blocks)"
   ]
  },
  {
   "cell_type": "code",
   "execution_count": null,
   "metadata": {},
   "outputs": [],
   "source": [
    "separate column for height width shapre\n",
    "    \n",
    "    height and widt h10 and 19 whre did that come frm and we dont need it\n",
    "\n",
    "what does ROI stand for"
   ]
  }
 ],
 "metadata": {
  "kernelspec": {
   "display_name": "macsima",
   "language": "python",
   "name": "python3"
  },
  "language_info": {
   "codemirror_mode": {
    "name": "ipython",
    "version": 3
   },
   "file_extension": ".py",
   "mimetype": "text/x-python",
   "name": "python",
   "nbconvert_exporter": "python",
   "pygments_lexer": "ipython3",
   "version": "3.10.16"
  }
 },
 "nbformat": 4,
 "nbformat_minor": 2
}
